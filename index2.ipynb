{
 "cells": [
  {
   "cell_type": "code",
   "execution_count": 1,
   "outputs": [
    {
     "name": "stderr",
     "output_type": "stream",
     "text": [
      "23/09/03 19:39:38 WARN Utils: Your hostname, Yinkas-MacBook-Pro.local resolves to a loopback address: 127.0.0.1; using 10.0.0.51 instead (on interface en0)\n",
      "23/09/03 19:39:38 WARN Utils: Set SPARK_LOCAL_IP if you need to bind to another address\n",
      "Setting default log level to \"WARN\".\n",
      "To adjust logging level use sc.setLogLevel(newLevel). For SparkR, use setLogLevel(newLevel).\n",
      "23/09/03 19:39:39 WARN NativeCodeLoader: Unable to load native-hadoop library for your platform... using builtin-java classes where applicable\n"
     ]
    }
   ],
   "source": [
    "from pyspark.sql import SparkSession\n",
    "\n",
    "spark = SparkSession.builder.appName('rheeza').getOrCreate()"
   ],
   "metadata": {
    "collapsed": false,
    "ExecuteTime": {
     "end_time": "2023-09-04T01:39:41.228892Z",
     "start_time": "2023-09-04T01:39:35.298535Z"
    }
   }
  },
  {
   "cell_type": "markdown",
   "source": [
    "# Understand the Dataset"
   ],
   "metadata": {
    "collapsed": false
   }
  },
  {
   "cell_type": "code",
   "execution_count": 2,
   "outputs": [],
   "source": [
    "#reading the json\n",
    "trials_df = spark.read.json('/Users/yinka/PycharmProjects/pythonProject5/venv/dataset.json', multiLine=True)"
   ],
   "metadata": {
    "collapsed": false,
    "ExecuteTime": {
     "end_time": "2023-09-04T01:41:59.869160Z",
     "start_time": "2023-09-04T01:41:55.631098Z"
    }
   }
  },
  {
   "cell_type": "code",
   "execution_count": 3,
   "outputs": [
    {
     "name": "stdout",
     "output_type": "stream",
     "text": [
      "+----------------+--------------------+---------+-----------------+-------------------+------------------------------+--------------------+\n",
      "|ageofparticipant|           clinician|drug_used|experimentenddate|experimentstartdate|noofhourspassedatfirstreaction|              result|\n",
      "+----------------+--------------------+---------+-----------------+-------------------+------------------------------+--------------------+\n",
      "|              19|{Ontario, Saul, t...|  Placebo|    1619827200000|      1617235200000|                            52|{BP normalized, r...|\n",
      "|              14|{Ontario, Saul, n...| Naproxen|    1619827200000|      1617235200000|                            78|    {Follow-up, N/A}|\n",
      "|              17|{Ontario, Saul, n...|  Placebo|    1619827200000|      1617235200000|                            14|    {Follow-up, N/A}|\n",
      "|              18|{Ontario, Will, n...| Naproxen|    1619827200000|      1617235200000|                            14|{BP normalized, N/A}|\n",
      "|              17|{Ontario, Patrick...| Naproxen|    1619827200000|      1617235200000|                            22|{No effect, rashe...|\n",
      "+----------------+--------------------+---------+-----------------+-------------------+------------------------------+--------------------+\n",
      "only showing top 5 rows\n",
      "\n"
     ]
    }
   ],
   "source": [
    "trials_df.show(5)"
   ],
   "metadata": {
    "collapsed": false,
    "ExecuteTime": {
     "end_time": "2023-09-04T01:42:08.513071Z",
     "start_time": "2023-09-04T01:42:07.099021Z"
    }
   }
  },
  {
   "cell_type": "code",
   "execution_count": 4,
   "outputs": [
    {
     "data": {
      "text/plain": "[('ageofparticipant', 'bigint'),\n ('clinician', 'struct<branch:string,name:string,role:string>'),\n ('drug_used', 'string'),\n ('experimentenddate', 'string'),\n ('experimentstartdate', 'string'),\n ('noofhourspassedatfirstreaction', 'bigint'),\n ('result', 'struct<conclusion:string,sideeffectsonparticipant:string>')]"
     },
     "execution_count": 4,
     "metadata": {},
     "output_type": "execute_result"
    }
   ],
   "source": [
    "trials_df.dtypes"
   ],
   "metadata": {
    "collapsed": false,
    "ExecuteTime": {
     "end_time": "2023-09-04T01:42:18.247109Z",
     "start_time": "2023-09-04T01:42:18.141658Z"
    }
   }
  },
  {
   "cell_type": "code",
   "execution_count": 5,
   "outputs": [
    {
     "name": "stdout",
     "output_type": "stream",
     "text": [
      "root\n",
      " |-- ageofparticipant: long (nullable = true)\n",
      " |-- clinician: struct (nullable = true)\n",
      " |    |-- branch: string (nullable = true)\n",
      " |    |-- name: string (nullable = true)\n",
      " |    |-- role: string (nullable = true)\n",
      " |-- drug_used: string (nullable = true)\n",
      " |-- experimentenddate: string (nullable = true)\n",
      " |-- experimentstartdate: string (nullable = true)\n",
      " |-- noofhourspassedatfirstreaction: long (nullable = true)\n",
      " |-- result: struct (nullable = true)\n",
      " |    |-- conclusion: string (nullable = true)\n",
      " |    |-- sideeffectsonparticipant: string (nullable = true)\n",
      "\n"
     ]
    }
   ],
   "source": [
    "trials_df.printSchema()"
   ],
   "metadata": {
    "collapsed": false,
    "ExecuteTime": {
     "end_time": "2023-09-04T01:42:25.250860Z",
     "start_time": "2023-09-04T01:42:25.234977Z"
    }
   }
  },
  {
   "cell_type": "code",
   "execution_count": 6,
   "outputs": [
    {
     "data": {
      "text/plain": "['ageofparticipant',\n 'clinician',\n 'drug_used',\n 'experimentenddate',\n 'experimentstartdate',\n 'noofhourspassedatfirstreaction',\n 'result']"
     },
     "execution_count": 6,
     "metadata": {},
     "output_type": "execute_result"
    }
   ],
   "source": [
    "trials_df.columns"
   ],
   "metadata": {
    "collapsed": false,
    "ExecuteTime": {
     "end_time": "2023-09-04T01:42:32.475842Z",
     "start_time": "2023-09-04T01:42:32.463910Z"
    }
   }
  },
  {
   "cell_type": "code",
   "execution_count": 7,
   "outputs": [],
   "source": [
    "columns = [\n",
    " 'ageofparticipant',\n",
    "  'clinician.branch', 'clinician.name', 'clinician.role',\n",
    " 'drug_used',\n",
    " 'experimentenddate',\n",
    " 'experimentstartdate',\n",
    " 'noofhourspassedatfirstreaction',\n",
    " 'result.conclusion', 'result.sideeffectsonparticipant']"
   ],
   "metadata": {
    "collapsed": false,
    "ExecuteTime": {
     "end_time": "2023-09-04T01:42:36.495750Z",
     "start_time": "2023-09-04T01:42:36.490301Z"
    }
   }
  },
  {
   "cell_type": "code",
   "execution_count": 8,
   "outputs": [
    {
     "name": "stdout",
     "output_type": "stream",
     "text": [
      "+----------------+-------+-------+---------+---------+-----------------+-------------------+------------------------------+-------------+------------------------+\n",
      "|ageofparticipant| branch|   name|     role|drug_used|experimentenddate|experimentstartdate|noofhourspassedatfirstreaction|   conclusion|sideeffectsonparticipant|\n",
      "+----------------+-------+-------+---------+---------+-----------------+-------------------+------------------------------+-------------+------------------------+\n",
      "|              19|Ontario|   Saul|therapist|  Placebo|    1619827200000|      1617235200000|                            52|BP normalized|          rashes on neck|\n",
      "|              14|Ontario|   Saul|    nurse| Naproxen|    1619827200000|      1617235200000|                            78|    Follow-up|                     N/A|\n",
      "|              17|Ontario|   Saul|    nurse|  Placebo|    1619827200000|      1617235200000|                            14|    Follow-up|                     N/A|\n",
      "|              18|Ontario|   Will|    nurse| Naproxen|    1619827200000|      1617235200000|                            14|BP normalized|                     N/A|\n",
      "|              17|Ontario|Patrick|   doctor| Naproxen|    1619827200000|      1617235200000|                            22|    No effect|          rashes on neck|\n",
      "+----------------+-------+-------+---------+---------+-----------------+-------------------+------------------------------+-------------+------------------------+\n",
      "only showing top 5 rows\n",
      "\n"
     ]
    }
   ],
   "source": [
    "trials_df.select(columns).show(5)"
   ],
   "metadata": {
    "collapsed": false,
    "ExecuteTime": {
     "end_time": "2023-09-04T01:42:38.916258Z",
     "start_time": "2023-09-04T01:42:38.618956Z"
    }
   }
  },
  {
   "cell_type": "code",
   "execution_count": 9,
   "outputs": [],
   "source": [
    "from pyspark.sql import functions as fn"
   ],
   "metadata": {
    "collapsed": false,
    "ExecuteTime": {
     "end_time": "2023-09-04T01:42:46.409309Z",
     "start_time": "2023-09-04T01:42:46.404043Z"
    }
   }
  },
  {
   "cell_type": "code",
   "execution_count": null,
   "outputs": [],
   "source": [],
   "metadata": {
    "collapsed": false
   }
  },
  {
   "cell_type": "code",
   "execution_count": 10,
   "outputs": [
    {
     "name": "stdout",
     "output_type": "stream",
     "text": [
      "+----------------+----------------+--------------+--------------+---------+-----------------+-------------------+------------------------------+-----------------+-------------------------------+\n",
      "|ageofparticipant|clinician.branch|clinician.name|clinician.role|drug_used|experimentenddate|experimentstartdate|noofhourspassedatfirstreaction|result.conclusion|result.sideeffectsonparticipant|\n",
      "+----------------+----------------+--------------+--------------+---------+-----------------+-------------------+------------------------------+-----------------+-------------------------------+\n",
      "|               0|               0|             0|           109|        0|                0|                  0|                            73|               53|                              0|\n",
      "+----------------+----------------+--------------+--------------+---------+-----------------+-------------------+------------------------------+-----------------+-------------------------------+\n",
      "\n"
     ]
    }
   ],
   "source": [
    "#counting null values per column\n",
    "trials_df.select([fn.count(fn.when(fn.col(column).isNull(), column)).alias(column) for column in columns]).show()"
   ],
   "metadata": {
    "collapsed": false,
    "ExecuteTime": {
     "end_time": "2023-09-04T01:42:57.517602Z",
     "start_time": "2023-09-04T01:42:56.567105Z"
    }
   }
  },
  {
   "cell_type": "markdown",
   "source": [
    "# Cleaning"
   ],
   "metadata": {
    "collapsed": false
   }
  },
  {
   "cell_type": "code",
   "execution_count": 11,
   "outputs": [
    {
     "name": "stdout",
     "output_type": "stream",
     "text": [
      "+----------------+--------------------+---------+-----------------+-------------------+------------------------------+--------------------+\n",
      "|ageofparticipant|           clinician|drug_used|experimentenddate|experimentstartdate|noofhourspassedatfirstreaction|              result|\n",
      "+----------------+--------------------+---------+-----------------+-------------------+------------------------------+--------------------+\n",
      "|              19|{Ontario, Saul, t...|  Placebo|    1619827200000|      1617235200000|                            52|{BP normalized, r...|\n",
      "|              14|{Ontario, Saul, n...| Naproxen|    1619827200000|      1617235200000|                            78|    {Follow-up, N/A}|\n",
      "|              17|{Ontario, Saul, n...|  Placebo|    1619827200000|      1617235200000|                            14|    {Follow-up, N/A}|\n",
      "|              18|{Ontario, Will, n...| Naproxen|    1619827200000|      1617235200000|                            14|{BP normalized, N/A}|\n",
      "|              17|{Ontario, Patrick...| Naproxen|    1619827200000|      1617235200000|                            22|{No effect, rashe...|\n",
      "+----------------+--------------------+---------+-----------------+-------------------+------------------------------+--------------------+\n",
      "only showing top 5 rows\n",
      "\n"
     ]
    }
   ],
   "source": [
    "trials_df.show(5)"
   ],
   "metadata": {
    "collapsed": false,
    "ExecuteTime": {
     "end_time": "2023-09-04T01:43:04.193339Z",
     "start_time": "2023-09-04T01:43:04.039245Z"
    }
   }
  },
  {
   "cell_type": "code",
   "execution_count": null,
   "outputs": [],
   "source": [
    "# flatten the dataframe\n",
    "# address null values\n",
    "# rename the columns\n",
    "#"
   ],
   "metadata": {
    "collapsed": false
   }
  },
  {
   "cell_type": "code",
   "execution_count": 12,
   "outputs": [],
   "source": [
    "new_trials_df = trials_df.select(columns)"
   ],
   "metadata": {
    "collapsed": false,
    "ExecuteTime": {
     "end_time": "2023-09-04T01:43:10.644694Z",
     "start_time": "2023-09-04T01:43:10.571399Z"
    }
   }
  },
  {
   "cell_type": "code",
   "execution_count": 13,
   "outputs": [
    {
     "name": "stdout",
     "output_type": "stream",
     "text": [
      "root\n",
      " |-- ageofparticipant: long (nullable = true)\n",
      " |-- branch: string (nullable = true)\n",
      " |-- name: string (nullable = true)\n",
      " |-- role: string (nullable = true)\n",
      " |-- drug_used: string (nullable = true)\n",
      " |-- experimentenddate: string (nullable = true)\n",
      " |-- experimentstartdate: string (nullable = true)\n",
      " |-- noofhourspassedatfirstreaction: long (nullable = true)\n",
      " |-- conclusion: string (nullable = true)\n",
      " |-- sideeffectsonparticipant: string (nullable = true)\n",
      "\n"
     ]
    }
   ],
   "source": [
    "new_trials_df.printSchema()"
   ],
   "metadata": {
    "collapsed": false,
    "ExecuteTime": {
     "end_time": "2023-09-04T01:43:11.593095Z",
     "start_time": "2023-09-04T01:43:11.579087Z"
    }
   }
  },
  {
   "cell_type": "code",
   "execution_count": 14,
   "outputs": [],
   "source": [
    "# rename the column\n",
    "new_trials_df = new_trials_df.withColumnsRenamed({'side effects': 'side_effects', 'no of hours passed at first reaction': 'no_of_hours_passed_at_first_reaction', 'experiment start date': 'experiment_start_date', 'age of participant': 'age_of_participant', 'experiment end date': 'experiment_end_date', 'head clinician': 'head_clinician', 'assistant role': 'assistant_role'})"
   ],
   "metadata": {
    "collapsed": false,
    "ExecuteTime": {
     "end_time": "2023-09-04T01:43:20.600090Z",
     "start_time": "2023-09-04T01:43:20.569290Z"
    }
   }
  },
  {
   "cell_type": "code",
   "execution_count": 15,
   "outputs": [
    {
     "name": "stdout",
     "output_type": "stream",
     "text": [
      "+----------------+-------+-------+---------+---------+-----------------+-------------------+------------------------------+-------------+------------------------+\n",
      "|ageofparticipant| branch|   name|     role|drug_used|experimentenddate|experimentstartdate|noofhourspassedatfirstreaction|   conclusion|sideeffectsonparticipant|\n",
      "+----------------+-------+-------+---------+---------+-----------------+-------------------+------------------------------+-------------+------------------------+\n",
      "|              19|Ontario|   Saul|therapist|  Placebo|    1619827200000|      1617235200000|                            52|BP normalized|          rashes on neck|\n",
      "|              14|Ontario|   Saul|    nurse| Naproxen|    1619827200000|      1617235200000|                            78|    Follow-up|                     N/A|\n",
      "|              17|Ontario|   Saul|    nurse|  Placebo|    1619827200000|      1617235200000|                            14|    Follow-up|                     N/A|\n",
      "|              18|Ontario|   Will|    nurse| Naproxen|    1619827200000|      1617235200000|                            14|BP normalized|                     N/A|\n",
      "|              17|Ontario|Patrick|   doctor| Naproxen|    1619827200000|      1617235200000|                            22|    No effect|          rashes on neck|\n",
      "|              17|Ontario|Patrick|   doctor| Naproxen|    1619827200000|      1617235200000|                             4|    Follow-up|               headaches|\n",
      "|              20|Ontario|   Saul|   doctor| Naproxen|    1619827200000|      1617235200000|                            85|    No effect|               headaches|\n",
      "|              15|Ontario|   Saul|   doctor|  Placebo|    1619827200000|      1617235200000|                            49|    No effect|          rashes on neck|\n",
      "|              14|Ontario|   Will|therapist|  Placebo|    1619827200000|      1617235200000|                            84|    Follow-up|               headaches|\n",
      "|              20|Ontario| Colins|    nurse|  Placebo|    1619827200000|      1617235200000|                            66|    Follow-up|           arms and feet|\n",
      "|              18|Ontario|Patrick|   doctor|  Placebo|    1619827200000|      1617235200000|                            40|BP normalized|             light fever|\n",
      "|              17|Ontario|Patrick|   doctor|  Placebo|    1619827200000|      1617235200000|                            72|BP normalized|           arms and feet|\n",
      "|              19|Ontario| Colins|therapist|  Placebo|    1619827200000|      1617235200000|                            36|    No effect|                     N/A|\n",
      "|              15|Ontario| Colins|therapist| Naproxen|    1619827200000|      1617235200000|                            12|BP normalized|               headaches|\n",
      "|              19|Ontario|   Saul|therapist|  Placebo|    1619827200000|      1617235200000|                            14|    No effect|                     N/A|\n",
      "|              16|Ontario| Colins|    nurse|  Placebo|    1619827200000|      1617235200000|                            63|BP normalized|                     N/A|\n",
      "|              16|Ontario|   Saul|    nurse| Naproxen|    1619827200000|      1617235200000|                            70|BP normalized|               headaches|\n",
      "|              18|Ontario|   Will|therapist| Naproxen|    1619827200000|      1617235200000|                            10|BP normalized|                     N/A|\n",
      "|              16|Ontario|Patrick|    nurse| Naproxen|    1619827200000|      1617235200000|                            11|    Follow-up|          rashes on neck|\n",
      "|              14|Ontario|Patrick|   doctor| Naproxen|    1619827200000|      1617235200000|                            32|    No effect|             light fever|\n",
      "+----------------+-------+-------+---------+---------+-----------------+-------------------+------------------------------+-------------+------------------------+\n",
      "only showing top 20 rows\n",
      "\n"
     ]
    }
   ],
   "source": [
    "new_trials_df.show()"
   ],
   "metadata": {
    "collapsed": false,
    "ExecuteTime": {
     "end_time": "2023-09-04T01:43:21.948845Z",
     "start_time": "2023-09-04T01:43:21.761855Z"
    }
   }
  },
  {
   "cell_type": "code",
   "execution_count": 16,
   "outputs": [
    {
     "name": "stderr",
     "output_type": "stream",
     "text": [
      "23/09/03 19:43:30 WARN package: Truncated the string representation of a plan since it was too large. This behavior can be adjusted by setting 'spark.sql.debug.maxToStringFields'.\n",
      "[Stage 8:>                                                          (0 + 1) / 1]\r"
     ]
    },
    {
     "name": "stdout",
     "output_type": "stream",
     "text": [
      "+-------+------------------+-------+-------+---------+---------+--------------------+--------------------+------------------------------+-------------+------------------------+\n",
      "|summary|  ageofparticipant| branch|   name|     role|drug_used|   experimentenddate| experimentstartdate|noofhourspassedatfirstreaction|   conclusion|sideeffectsonparticipant|\n",
      "+-------+------------------+-------+-------+---------+---------+--------------------+--------------------+------------------------------+-------------+------------------------+\n",
      "|  count|              3586|   3586|   3586|     3477|     3586|                3586|                3586|                          3513|         3533|                    3586|\n",
      "|   mean|17.507250418293363|   null|   null|     null|     null|1.618381578137200...|1.615813671834913...|             44.89097637346997|         null|                    null|\n",
      "| stddev|2.3066401927555233|   null|   null|     null|     null|2.3250351904618263E9|2.2862846039555306E9|            24.540325490035848|         null|                    null|\n",
      "|    min|                14|Alberta| Colins|   doctor| Naproxen|       1614643200000|       1612137600000|                             3|BP normalized|                     N/A|\n",
      "|    max|                21| Quebec|Windsor|therapist|  Placebo|       1619827200000|       1617235200000|                            87|    No effect|          rashes on neck|\n",
      "+-------+------------------+-------+-------+---------+---------+--------------------+--------------------+------------------------------+-------------+------------------------+\n",
      "\n"
     ]
    },
    {
     "name": "stderr",
     "output_type": "stream",
     "text": [
      "                                                                                \r"
     ]
    }
   ],
   "source": [
    "new_trials_df.describe().show()"
   ],
   "metadata": {
    "collapsed": false,
    "ExecuteTime": {
     "end_time": "2023-09-04T01:43:32.008476Z",
     "start_time": "2023-09-04T01:43:30.062573Z"
    }
   }
  },
  {
   "cell_type": "code",
   "execution_count": 17,
   "outputs": [
    {
     "ename": "AnalysisException",
     "evalue": "[UNRESOLVED_COLUMN.WITH_SUGGESTION] A column or function parameter with name `assistant role` cannot be resolved. Did you mean one of the following? [`ageofparticipant`, `branch`, `name`, `role`, `drug_used`, `experimentenddate`, `experimentstartdate`, `noofhourspassedatfirstreaction`, `conclusion`, `sideeffectsonparticipant`].",
     "output_type": "error",
     "traceback": [
      "\u001B[0;31m---------------------------------------------------------------------------\u001B[0m",
      "\u001B[0;31mAnalysisException\u001B[0m                         Traceback (most recent call last)",
      "Cell \u001B[0;32mIn[17], line 1\u001B[0m\n\u001B[0;32m----> 1\u001B[0m new_trials_df \u001B[38;5;241m=\u001B[39m \u001B[43mnew_trials_df\u001B[49m\u001B[38;5;241;43m.\u001B[39;49m\u001B[43mna\u001B[49m\u001B[38;5;241;43m.\u001B[39;49m\u001B[43mfill\u001B[49m\u001B[43m(\u001B[49m\u001B[43m{\u001B[49m\u001B[38;5;124;43m'\u001B[39;49m\u001B[38;5;124;43mconclusion\u001B[39;49m\u001B[38;5;124;43m'\u001B[39;49m\u001B[43m:\u001B[49m\u001B[43m \u001B[49m\u001B[38;5;124;43m'\u001B[39;49m\u001B[38;5;124;43munknown\u001B[39;49m\u001B[38;5;124;43m'\u001B[39;49m\u001B[43m,\u001B[49m\u001B[43m \u001B[49m\u001B[38;5;124;43m'\u001B[39;49m\u001B[38;5;124;43massistant role\u001B[39;49m\u001B[38;5;124;43m'\u001B[39;49m\u001B[43m:\u001B[49m\u001B[43m \u001B[49m\u001B[38;5;124;43m'\u001B[39;49m\u001B[38;5;124;43munknown\u001B[39;49m\u001B[38;5;124;43m'\u001B[39;49m\u001B[43m}\u001B[49m\u001B[43m)\u001B[49m\n",
      "File \u001B[0;32m~/PycharmProjects/pythonProject5/venv/lib/python3.10/site-packages/pyspark/sql/dataframe.py:5362\u001B[0m, in \u001B[0;36mDataFrameNaFunctions.fill\u001B[0;34m(self, value, subset)\u001B[0m\n\u001B[1;32m   5357\u001B[0m \u001B[38;5;28;01mdef\u001B[39;00m \u001B[38;5;21mfill\u001B[39m(\n\u001B[1;32m   5358\u001B[0m     \u001B[38;5;28mself\u001B[39m,\n\u001B[1;32m   5359\u001B[0m     value: Union[\u001B[38;5;124m\"\u001B[39m\u001B[38;5;124mLiteralType\u001B[39m\u001B[38;5;124m\"\u001B[39m, Dict[\u001B[38;5;28mstr\u001B[39m, \u001B[38;5;124m\"\u001B[39m\u001B[38;5;124mLiteralType\u001B[39m\u001B[38;5;124m\"\u001B[39m]],\n\u001B[1;32m   5360\u001B[0m     subset: Optional[List[\u001B[38;5;28mstr\u001B[39m]] \u001B[38;5;241m=\u001B[39m \u001B[38;5;28;01mNone\u001B[39;00m,\n\u001B[1;32m   5361\u001B[0m ) \u001B[38;5;241m-\u001B[39m\u001B[38;5;241m>\u001B[39m DataFrame:\n\u001B[0;32m-> 5362\u001B[0m     \u001B[38;5;28;01mreturn\u001B[39;00m \u001B[38;5;28;43mself\u001B[39;49m\u001B[38;5;241;43m.\u001B[39;49m\u001B[43mdf\u001B[49m\u001B[38;5;241;43m.\u001B[39;49m\u001B[43mfillna\u001B[49m\u001B[43m(\u001B[49m\u001B[43mvalue\u001B[49m\u001B[38;5;241;43m=\u001B[39;49m\u001B[43mvalue\u001B[49m\u001B[43m,\u001B[49m\u001B[43m \u001B[49m\u001B[43msubset\u001B[49m\u001B[38;5;241;43m=\u001B[39;49m\u001B[43msubset\u001B[49m\u001B[43m)\u001B[49m\n",
      "File \u001B[0;32m~/PycharmProjects/pythonProject5/venv/lib/python3.10/site-packages/pyspark/sql/dataframe.py:4105\u001B[0m, in \u001B[0;36mDataFrame.fillna\u001B[0;34m(self, value, subset)\u001B[0m\n\u001B[1;32m   4102\u001B[0m     value \u001B[38;5;241m=\u001B[39m \u001B[38;5;28mfloat\u001B[39m(value)\n\u001B[1;32m   4104\u001B[0m \u001B[38;5;28;01mif\u001B[39;00m \u001B[38;5;28misinstance\u001B[39m(value, \u001B[38;5;28mdict\u001B[39m):\n\u001B[0;32m-> 4105\u001B[0m     \u001B[38;5;28;01mreturn\u001B[39;00m DataFrame(\u001B[38;5;28;43mself\u001B[39;49m\u001B[38;5;241;43m.\u001B[39;49m\u001B[43m_jdf\u001B[49m\u001B[38;5;241;43m.\u001B[39;49m\u001B[43mna\u001B[49m\u001B[43m(\u001B[49m\u001B[43m)\u001B[49m\u001B[38;5;241;43m.\u001B[39;49m\u001B[43mfill\u001B[49m\u001B[43m(\u001B[49m\u001B[43mvalue\u001B[49m\u001B[43m)\u001B[49m, \u001B[38;5;28mself\u001B[39m\u001B[38;5;241m.\u001B[39msparkSession)\n\u001B[1;32m   4106\u001B[0m \u001B[38;5;28;01melif\u001B[39;00m subset \u001B[38;5;129;01mis\u001B[39;00m \u001B[38;5;28;01mNone\u001B[39;00m:\n\u001B[1;32m   4107\u001B[0m     \u001B[38;5;28;01mreturn\u001B[39;00m DataFrame(\u001B[38;5;28mself\u001B[39m\u001B[38;5;241m.\u001B[39m_jdf\u001B[38;5;241m.\u001B[39mna()\u001B[38;5;241m.\u001B[39mfill(value), \u001B[38;5;28mself\u001B[39m\u001B[38;5;241m.\u001B[39msparkSession)\n",
      "File \u001B[0;32m~/PycharmProjects/pythonProject5/venv/lib/python3.10/site-packages/py4j/java_gateway.py:1322\u001B[0m, in \u001B[0;36mJavaMember.__call__\u001B[0;34m(self, *args)\u001B[0m\n\u001B[1;32m   1316\u001B[0m command \u001B[38;5;241m=\u001B[39m proto\u001B[38;5;241m.\u001B[39mCALL_COMMAND_NAME \u001B[38;5;241m+\u001B[39m\\\n\u001B[1;32m   1317\u001B[0m     \u001B[38;5;28mself\u001B[39m\u001B[38;5;241m.\u001B[39mcommand_header \u001B[38;5;241m+\u001B[39m\\\n\u001B[1;32m   1318\u001B[0m     args_command \u001B[38;5;241m+\u001B[39m\\\n\u001B[1;32m   1319\u001B[0m     proto\u001B[38;5;241m.\u001B[39mEND_COMMAND_PART\n\u001B[1;32m   1321\u001B[0m answer \u001B[38;5;241m=\u001B[39m \u001B[38;5;28mself\u001B[39m\u001B[38;5;241m.\u001B[39mgateway_client\u001B[38;5;241m.\u001B[39msend_command(command)\n\u001B[0;32m-> 1322\u001B[0m return_value \u001B[38;5;241m=\u001B[39m \u001B[43mget_return_value\u001B[49m\u001B[43m(\u001B[49m\n\u001B[1;32m   1323\u001B[0m \u001B[43m    \u001B[49m\u001B[43manswer\u001B[49m\u001B[43m,\u001B[49m\u001B[43m \u001B[49m\u001B[38;5;28;43mself\u001B[39;49m\u001B[38;5;241;43m.\u001B[39;49m\u001B[43mgateway_client\u001B[49m\u001B[43m,\u001B[49m\u001B[43m \u001B[49m\u001B[38;5;28;43mself\u001B[39;49m\u001B[38;5;241;43m.\u001B[39;49m\u001B[43mtarget_id\u001B[49m\u001B[43m,\u001B[49m\u001B[43m \u001B[49m\u001B[38;5;28;43mself\u001B[39;49m\u001B[38;5;241;43m.\u001B[39;49m\u001B[43mname\u001B[49m\u001B[43m)\u001B[49m\n\u001B[1;32m   1325\u001B[0m \u001B[38;5;28;01mfor\u001B[39;00m temp_arg \u001B[38;5;129;01min\u001B[39;00m temp_args:\n\u001B[1;32m   1326\u001B[0m     \u001B[38;5;28;01mif\u001B[39;00m \u001B[38;5;28mhasattr\u001B[39m(temp_arg, \u001B[38;5;124m\"\u001B[39m\u001B[38;5;124m_detach\u001B[39m\u001B[38;5;124m\"\u001B[39m):\n",
      "File \u001B[0;32m~/PycharmProjects/pythonProject5/venv/lib/python3.10/site-packages/pyspark/errors/exceptions/captured.py:175\u001B[0m, in \u001B[0;36mcapture_sql_exception.<locals>.deco\u001B[0;34m(*a, **kw)\u001B[0m\n\u001B[1;32m    171\u001B[0m converted \u001B[38;5;241m=\u001B[39m convert_exception(e\u001B[38;5;241m.\u001B[39mjava_exception)\n\u001B[1;32m    172\u001B[0m \u001B[38;5;28;01mif\u001B[39;00m \u001B[38;5;129;01mnot\u001B[39;00m \u001B[38;5;28misinstance\u001B[39m(converted, UnknownException):\n\u001B[1;32m    173\u001B[0m     \u001B[38;5;66;03m# Hide where the exception came from that shows a non-Pythonic\u001B[39;00m\n\u001B[1;32m    174\u001B[0m     \u001B[38;5;66;03m# JVM exception message.\u001B[39;00m\n\u001B[0;32m--> 175\u001B[0m     \u001B[38;5;28;01mraise\u001B[39;00m converted \u001B[38;5;28;01mfrom\u001B[39;00m \u001B[38;5;28;01mNone\u001B[39;00m\n\u001B[1;32m    176\u001B[0m \u001B[38;5;28;01melse\u001B[39;00m:\n\u001B[1;32m    177\u001B[0m     \u001B[38;5;28;01mraise\u001B[39;00m\n",
      "\u001B[0;31mAnalysisException\u001B[0m: [UNRESOLVED_COLUMN.WITH_SUGGESTION] A column or function parameter with name `assistant role` cannot be resolved. Did you mean one of the following? [`ageofparticipant`, `branch`, `name`, `role`, `drug_used`, `experimentenddate`, `experimentstartdate`, `noofhourspassedatfirstreaction`, `conclusion`, `sideeffectsonparticipant`]."
     ]
    }
   ],
   "source": [
    "new_trials_df = new_trials_df.na.fill({'conclusion': 'unknown', 'assistant role': 'unknown'})"
   ],
   "metadata": {
    "collapsed": false,
    "ExecuteTime": {
     "end_time": "2023-09-04T01:43:38.572094Z",
     "start_time": "2023-09-04T01:43:37.648132Z"
    }
   }
  },
  {
   "cell_type": "code",
   "execution_count": 18,
   "outputs": [
    {
     "name": "stdout",
     "output_type": "stream",
     "text": [
      "+-------+------------------+-------+-------+---------+---------+--------------------+--------------------+------------------------------+-------------+------------------------+\n",
      "|summary|  ageofparticipant| branch|   name|     role|drug_used|   experimentenddate| experimentstartdate|noofhourspassedatfirstreaction|   conclusion|sideeffectsonparticipant|\n",
      "+-------+------------------+-------+-------+---------+---------+--------------------+--------------------+------------------------------+-------------+------------------------+\n",
      "|  count|              3586|   3586|   3586|     3477|     3586|                3586|                3586|                          3513|         3533|                    3586|\n",
      "|   mean|17.507250418293363|   null|   null|     null|     null|1.618381578137200...|1.615813671834913...|             44.89097637346997|         null|                    null|\n",
      "| stddev|2.3066401927555233|   null|   null|     null|     null|2.3250351904618263E9|2.2862846039555306E9|            24.540325490035848|         null|                    null|\n",
      "|    min|                14|Alberta| Colins|   doctor| Naproxen|       1614643200000|       1612137600000|                             3|BP normalized|                     N/A|\n",
      "|    max|                21| Quebec|Windsor|therapist|  Placebo|       1619827200000|       1617235200000|                            87|    No effect|          rashes on neck|\n",
      "+-------+------------------+-------+-------+---------+---------+--------------------+--------------------+------------------------------+-------------+------------------------+\n",
      "\n"
     ]
    }
   ],
   "source": [
    "new_trials_df.describe().show()"
   ],
   "metadata": {
    "collapsed": false,
    "ExecuteTime": {
     "end_time": "2023-09-04T01:43:43.492780Z",
     "start_time": "2023-09-04T01:43:42.674505Z"
    }
   }
  },
  {
   "cell_type": "code",
   "execution_count": 19,
   "outputs": [
    {
     "name": "stdout",
     "output_type": "stream",
     "text": [
      "+----------------+-------+-------+---------+---------+-----------------+-------------------+------------------------------+-------------+------------------------+\n",
      "|ageofparticipant| branch|   name|     role|drug_used|experimentenddate|experimentstartdate|noofhourspassedatfirstreaction|   conclusion|sideeffectsonparticipant|\n",
      "+----------------+-------+-------+---------+---------+-----------------+-------------------+------------------------------+-------------+------------------------+\n",
      "|              19|Ontario|   Saul|therapist|  Placebo|    1619827200000|      1617235200000|                            52|BP normalized|          rashes on neck|\n",
      "|              14|Ontario|   Saul|    nurse| Naproxen|    1619827200000|      1617235200000|                            78|    Follow-up|                     N/A|\n",
      "|              17|Ontario|   Saul|    nurse|  Placebo|    1619827200000|      1617235200000|                            14|    Follow-up|                     N/A|\n",
      "|              18|Ontario|   Will|    nurse| Naproxen|    1619827200000|      1617235200000|                            14|BP normalized|                     N/A|\n",
      "|              17|Ontario|Patrick|   doctor| Naproxen|    1619827200000|      1617235200000|                            22|    No effect|          rashes on neck|\n",
      "+----------------+-------+-------+---------+---------+-----------------+-------------------+------------------------------+-------------+------------------------+\n",
      "only showing top 5 rows\n",
      "\n"
     ]
    }
   ],
   "source": [
    "new_trials_df.show(5)"
   ],
   "metadata": {
    "collapsed": false,
    "ExecuteTime": {
     "end_time": "2023-09-04T01:43:49.966817Z",
     "start_time": "2023-09-04T01:43:49.792794Z"
    }
   }
  },
  {
   "cell_type": "markdown",
   "source": [
    "## Transformation"
   ],
   "metadata": {
    "collapsed": false
   }
  },
  {
   "cell_type": "code",
   "execution_count": null,
   "outputs": [],
   "source": [
    "#transforming experiment start and end date to datetype"
   ],
   "metadata": {
    "collapsed": false
   }
  },
  {
   "cell_type": "code",
   "execution_count": 20,
   "outputs": [
    {
     "name": "stdout",
     "output_type": "stream",
     "text": [
      "root\n",
      " |-- ageofparticipant: long (nullable = true)\n",
      " |-- branch: string (nullable = true)\n",
      " |-- name: string (nullable = true)\n",
      " |-- role: string (nullable = true)\n",
      " |-- drug_used: string (nullable = true)\n",
      " |-- experimentenddate: string (nullable = true)\n",
      " |-- experimentstartdate: string (nullable = true)\n",
      " |-- noofhourspassedatfirstreaction: long (nullable = true)\n",
      " |-- conclusion: string (nullable = true)\n",
      " |-- sideeffectsonparticipant: string (nullable = true)\n",
      "\n"
     ]
    }
   ],
   "source": [
    "new_trials_df.printSchema()"
   ],
   "metadata": {
    "collapsed": false,
    "ExecuteTime": {
     "end_time": "2023-09-04T01:44:00.788760Z",
     "start_time": "2023-09-04T01:44:00.777119Z"
    }
   }
  },
  {
   "cell_type": "code",
   "execution_count": 21,
   "outputs": [],
   "source": [
    "from pyspark.sql import types as dtypes"
   ],
   "metadata": {
    "collapsed": false,
    "ExecuteTime": {
     "end_time": "2023-09-04T01:44:11.548630Z",
     "start_time": "2023-09-04T01:44:11.537622Z"
    }
   }
  },
  {
   "cell_type": "code",
   "execution_count": null,
   "outputs": [],
   "source": [
    "# convert the datatypes to integers (Long)\n",
    "# divide by 1000\n",
    "# convert from unix to datetime"
   ],
   "metadata": {
    "collapsed": false
   }
  },
  {
   "cell_type": "code",
   "execution_count": 34,
   "outputs": [],
   "source": [
    "new_trials_df = new_trials_df\\\n",
    " .withColumn('start_ts', fn.from_unixtime(fn.col('experimentstartdate').cast(dtypes.LongType())/1000, 'yyyy-MM-dd HH:mm:ss'))\\\n",
    " .withColumn('start_ts', fn.col('start_ts').cast(dtypes.TimestampType()))\\\n",
    "  .withColumn('end_ts', fn.from_unixtime(fn.col('experimentenddate').cast(dtypes.LongType())/1000, 'yyyy-MM-dd HH:mm:ss'))\\\n",
    "  .withColumn('end_ts', fn.col('end_ts').cast(dtypes.TimestampType()))"
   ],
   "metadata": {
    "collapsed": false,
    "ExecuteTime": {
     "end_time": "2023-09-04T02:17:32.261220Z",
     "start_time": "2023-09-04T02:17:32.136682Z"
    }
   }
  },
  {
   "cell_type": "code",
   "execution_count": 35,
   "outputs": [
    {
     "name": "stdout",
     "output_type": "stream",
     "text": [
      "+----------------+-------+-------+---------+---------+-----------------+-------------------+------------------------------+-------------+------------------------+-------------------+-------------------+\n",
      "|ageofparticipant| branch|   name|     role|drug_used|experimentenddate|experimentstartdate|noofhourspassedatfirstreaction|   conclusion|sideeffectsonparticipant|           start_ts|             end_ts|\n",
      "+----------------+-------+-------+---------+---------+-----------------+-------------------+------------------------------+-------------+------------------------+-------------------+-------------------+\n",
      "|              19|Ontario|   Saul|therapist|  Placebo|    1619827200000|      1617235200000|                            52|BP normalized|          rashes on neck|2021-03-31 18:00:00|2021-04-30 18:00:00|\n",
      "|              14|Ontario|   Saul|    nurse| Naproxen|    1619827200000|      1617235200000|                            78|    Follow-up|                     N/A|2021-03-31 18:00:00|2021-04-30 18:00:00|\n",
      "|              17|Ontario|   Saul|    nurse|  Placebo|    1619827200000|      1617235200000|                            14|    Follow-up|                     N/A|2021-03-31 18:00:00|2021-04-30 18:00:00|\n",
      "|              18|Ontario|   Will|    nurse| Naproxen|    1619827200000|      1617235200000|                            14|BP normalized|                     N/A|2021-03-31 18:00:00|2021-04-30 18:00:00|\n",
      "|              17|Ontario|Patrick|   doctor| Naproxen|    1619827200000|      1617235200000|                            22|    No effect|          rashes on neck|2021-03-31 18:00:00|2021-04-30 18:00:00|\n",
      "|              17|Ontario|Patrick|   doctor| Naproxen|    1619827200000|      1617235200000|                             4|    Follow-up|               headaches|2021-03-31 18:00:00|2021-04-30 18:00:00|\n",
      "|              20|Ontario|   Saul|   doctor| Naproxen|    1619827200000|      1617235200000|                            85|    No effect|               headaches|2021-03-31 18:00:00|2021-04-30 18:00:00|\n",
      "|              15|Ontario|   Saul|   doctor|  Placebo|    1619827200000|      1617235200000|                            49|    No effect|          rashes on neck|2021-03-31 18:00:00|2021-04-30 18:00:00|\n",
      "|              14|Ontario|   Will|therapist|  Placebo|    1619827200000|      1617235200000|                            84|    Follow-up|               headaches|2021-03-31 18:00:00|2021-04-30 18:00:00|\n",
      "|              20|Ontario| Colins|    nurse|  Placebo|    1619827200000|      1617235200000|                            66|    Follow-up|           arms and feet|2021-03-31 18:00:00|2021-04-30 18:00:00|\n",
      "|              18|Ontario|Patrick|   doctor|  Placebo|    1619827200000|      1617235200000|                            40|BP normalized|             light fever|2021-03-31 18:00:00|2021-04-30 18:00:00|\n",
      "|              17|Ontario|Patrick|   doctor|  Placebo|    1619827200000|      1617235200000|                            72|BP normalized|           arms and feet|2021-03-31 18:00:00|2021-04-30 18:00:00|\n",
      "|              19|Ontario| Colins|therapist|  Placebo|    1619827200000|      1617235200000|                            36|    No effect|                     N/A|2021-03-31 18:00:00|2021-04-30 18:00:00|\n",
      "|              15|Ontario| Colins|therapist| Naproxen|    1619827200000|      1617235200000|                            12|BP normalized|               headaches|2021-03-31 18:00:00|2021-04-30 18:00:00|\n",
      "|              19|Ontario|   Saul|therapist|  Placebo|    1619827200000|      1617235200000|                            14|    No effect|                     N/A|2021-03-31 18:00:00|2021-04-30 18:00:00|\n",
      "|              16|Ontario| Colins|    nurse|  Placebo|    1619827200000|      1617235200000|                            63|BP normalized|                     N/A|2021-03-31 18:00:00|2021-04-30 18:00:00|\n",
      "|              16|Ontario|   Saul|    nurse| Naproxen|    1619827200000|      1617235200000|                            70|BP normalized|               headaches|2021-03-31 18:00:00|2021-04-30 18:00:00|\n",
      "|              18|Ontario|   Will|therapist| Naproxen|    1619827200000|      1617235200000|                            10|BP normalized|                     N/A|2021-03-31 18:00:00|2021-04-30 18:00:00|\n",
      "|              16|Ontario|Patrick|    nurse| Naproxen|    1619827200000|      1617235200000|                            11|    Follow-up|          rashes on neck|2021-03-31 18:00:00|2021-04-30 18:00:00|\n",
      "|              14|Ontario|Patrick|   doctor| Naproxen|    1619827200000|      1617235200000|                            32|    No effect|             light fever|2021-03-31 18:00:00|2021-04-30 18:00:00|\n",
      "+----------------+-------+-------+---------+---------+-----------------+-------------------+------------------------------+-------------+------------------------+-------------------+-------------------+\n",
      "only showing top 20 rows\n",
      "\n"
     ]
    }
   ],
   "source": [
    "new_trials_df.show()"
   ],
   "metadata": {
    "collapsed": false,
    "ExecuteTime": {
     "end_time": "2023-09-04T02:17:45.046844Z",
     "start_time": "2023-09-04T02:17:44.887023Z"
    }
   }
  },
  {
   "cell_type": "code",
   "execution_count": 36,
   "outputs": [],
   "source": [
    "new_trials_df = new_trials_df.withColumnsRenamed({'sideeffectsonparticipant': 'side_effects', 'noofhourspassedatfirstreaction': 'no_of_hours_passed_at_first_reaction', 'experimentstartdate': 'experiment_start_date', 'ageofparticipant': 'age_of_participant', 'experimentenddate': 'experiment_end_date', 'name': 'head_clinician', 'role': 'assistant_role'})"
   ],
   "metadata": {
    "collapsed": false,
    "ExecuteTime": {
     "end_time": "2023-09-04T02:26:37.962439Z",
     "start_time": "2023-09-04T02:26:37.855578Z"
    }
   }
  },
  {
   "cell_type": "code",
   "execution_count": 38,
   "outputs": [
    {
     "data": {
      "text/plain": "[('age_of_participant', 'bigint'),\n ('branch', 'string'),\n ('head_clinician', 'string'),\n ('assistant_role', 'string'),\n ('drug_used', 'string'),\n ('experiment_end_date', 'string'),\n ('experiment_start_date', 'string'),\n ('no_of_hours_passed_at_first_reaction', 'bigint'),\n ('conclusion', 'string'),\n ('side_effects', 'string'),\n ('start_ts', 'timestamp'),\n ('end_ts', 'timestamp')]"
     },
     "execution_count": 38,
     "metadata": {},
     "output_type": "execute_result"
    }
   ],
   "source": [
    "new_trials_df.dtypes"
   ],
   "metadata": {
    "collapsed": false,
    "ExecuteTime": {
     "end_time": "2023-09-04T02:27:17.731265Z",
     "start_time": "2023-09-04T02:27:17.724130Z"
    }
   }
  },
  {
   "cell_type": "markdown",
   "source": [
    "# Load (for clinicians)"
   ],
   "metadata": {
    "collapsed": false
   }
  },
  {
   "cell_type": "code",
   "execution_count": 42,
   "outputs": [],
   "source": [
    "reordered_columns = ['start_ts', 'end_ts', 'branch', 'head_clinician', 'assistant_role', 'drug_used', 'age_of_participant', 'no_of_hours_passed_at_first_reaction', 'conclusion', 'side_effects']\n",
    "new_trials_df.select(reordered_columns).sort('start_ts').write.option('header', True).partitionBy('drug_used').mode('overwrite').format('csv').save('clinician')\n"
   ],
   "metadata": {
    "collapsed": false,
    "ExecuteTime": {
     "end_time": "2023-09-04T03:54:25.995589Z",
     "start_time": "2023-09-04T03:54:24.967368Z"
    }
   }
  },
  {
   "cell_type": "code",
   "execution_count": null,
   "outputs": [],
   "source": [],
   "metadata": {
    "collapsed": false
   }
  }
 ],
 "metadata": {
  "kernelspec": {
   "display_name": "Python 3",
   "language": "python",
   "name": "python3"
  },
  "language_info": {
   "codemirror_mode": {
    "name": "ipython",
    "version": 2
   },
   "file_extension": ".py",
   "mimetype": "text/x-python",
   "name": "python",
   "nbconvert_exporter": "python",
   "pygments_lexer": "ipython2",
   "version": "2.7.6"
  }
 },
 "nbformat": 4,
 "nbformat_minor": 0
}
