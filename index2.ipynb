{
 "cells": [
  {
   "cell_type": "code",
   "execution_count": 1,
   "outputs": [
    {
     "name": "stderr",
     "output_type": "stream",
     "text": [
      "23/09/02 09:53:35 WARN Utils: Your hostname, Yinkas-MacBook-Pro.local resolves to a loopback address: 127.0.0.1; using 10.0.0.51 instead (on interface en0)\n",
      "23/09/02 09:53:35 WARN Utils: Set SPARK_LOCAL_IP if you need to bind to another address\n",
      "Setting default log level to \"WARN\".\n",
      "To adjust logging level use sc.setLogLevel(newLevel). For SparkR, use setLogLevel(newLevel).\n",
      "23/09/02 09:53:35 WARN NativeCodeLoader: Unable to load native-hadoop library for your platform... using builtin-java classes where applicable\n",
      "23/09/02 09:53:36 WARN Utils: Service 'SparkUI' could not bind on port 4040. Attempting port 4041.\n"
     ]
    }
   ],
   "source": [
    "from pyspark.sql import SparkSession\n",
    "\n",
    "spark = SparkSession.builder.appName('rheeza').getOrCreate()"
   ],
   "metadata": {
    "collapsed": false,
    "ExecuteTime": {
     "end_time": "2023-09-02T15:53:37.606877Z",
     "start_time": "2023-09-02T15:53:32.809152Z"
    }
   }
  },
  {
   "cell_type": "markdown",
   "source": [
    "# Understand the Dataset"
   ],
   "metadata": {
    "collapsed": false
   }
  },
  {
   "cell_type": "code",
   "execution_count": 11,
   "outputs": [],
   "source": [
    "#reading the json\n",
    "trials_df = spark.read.json('/Users/yinka/PycharmProjects/pythonProject5/venv/dataset.json', multiLine=True)"
   ],
   "metadata": {
    "collapsed": false,
    "ExecuteTime": {
     "end_time": "2023-09-02T16:25:16.200938Z",
     "start_time": "2023-09-02T16:25:15.625033Z"
    }
   }
  },
  {
   "cell_type": "code",
   "execution_count": 12,
   "outputs": [
    {
     "name": "stdout",
     "output_type": "stream",
     "text": [
      "+----------------+--------------------+---------+-----------------+-------------------+------------------------------+--------------------+\n",
      "|ageofparticipant|           clinician|drug_used|experimentenddate|experimentstartdate|noofhourspassedatfirstreaction|              result|\n",
      "+----------------+--------------------+---------+-----------------+-------------------+------------------------------+--------------------+\n",
      "|              19|{Ontario, Saul, t...|  Placebo|    1619827200000|      1617235200000|                            52|{BP normalized, r...|\n",
      "|              14|{Ontario, Saul, n...| Naproxen|    1619827200000|      1617235200000|                            78|    {Follow-up, N/A}|\n",
      "|              17|{Ontario, Saul, n...|  Placebo|    1619827200000|      1617235200000|                            14|    {Follow-up, N/A}|\n",
      "|              18|{Ontario, Will, n...| Naproxen|    1619827200000|      1617235200000|                            14|{BP normalized, N/A}|\n",
      "|              17|{Ontario, Patrick...| Naproxen|    1619827200000|      1617235200000|                            22|{No effect, rashe...|\n",
      "+----------------+--------------------+---------+-----------------+-------------------+------------------------------+--------------------+\n",
      "only showing top 5 rows\n",
      "\n"
     ]
    }
   ],
   "source": [
    "trials_df.show(5)"
   ],
   "metadata": {
    "collapsed": false,
    "ExecuteTime": {
     "end_time": "2023-09-02T16:25:21.439238Z",
     "start_time": "2023-09-02T16:25:20.979186Z"
    }
   }
  },
  {
   "cell_type": "code",
   "execution_count": 8,
   "outputs": [
    {
     "data": {
      "text/plain": "[('_corrupt_record', 'string'),\n ('ageofparticipant', 'bigint'),\n ('clinician', 'struct<branch:string,name:string,role:string>'),\n ('drug_used', 'string'),\n ('experimentenddate', 'string'),\n ('experimentstartdate', 'string'),\n ('noofhourspassedatfirstreaction', 'bigint'),\n ('result', 'struct<conclusion:string,sideeffectsonparticipant:string>')]"
     },
     "execution_count": 8,
     "metadata": {},
     "output_type": "execute_result"
    }
   ],
   "source": [
    "trials_df.dtypes"
   ],
   "metadata": {
    "collapsed": false,
    "ExecuteTime": {
     "end_time": "2023-09-02T16:12:45.315353Z",
     "start_time": "2023-09-02T16:12:45.285127Z"
    }
   }
  },
  {
   "cell_type": "code",
   "execution_count": 17,
   "outputs": [
    {
     "name": "stdout",
     "output_type": "stream",
     "text": [
      "root\n",
      " |-- ageofparticipant: long (nullable = true)\n",
      " |-- clinician: struct (nullable = true)\n",
      " |    |-- branch: string (nullable = true)\n",
      " |    |-- name: string (nullable = true)\n",
      " |    |-- role: string (nullable = true)\n",
      " |-- drug_used: string (nullable = true)\n",
      " |-- experimentenddate: string (nullable = true)\n",
      " |-- experimentstartdate: string (nullable = true)\n",
      " |-- noofhourspassedatfirstreaction: long (nullable = true)\n",
      " |-- result: struct (nullable = true)\n",
      " |    |-- conclusion: string (nullable = true)\n",
      " |    |-- sideeffectsonparticipant: string (nullable = true)\n",
      "\n"
     ]
    }
   ],
   "source": [
    "trials_df.printSchema()"
   ],
   "metadata": {
    "collapsed": false,
    "ExecuteTime": {
     "end_time": "2023-09-02T16:28:43.659151Z",
     "start_time": "2023-09-02T16:28:43.647580Z"
    }
   }
  },
  {
   "cell_type": "code",
   "execution_count": 13,
   "outputs": [
    {
     "data": {
      "text/plain": "['ageofparticipant',\n 'clinician',\n 'drug_used',\n 'experimentenddate',\n 'experimentstartdate',\n 'noofhourspassedatfirstreaction',\n 'result']"
     },
     "execution_count": 13,
     "metadata": {},
     "output_type": "execute_result"
    }
   ],
   "source": [
    "trials_df.columns"
   ],
   "metadata": {
    "collapsed": false,
    "ExecuteTime": {
     "end_time": "2023-09-02T16:25:32.990201Z",
     "start_time": "2023-09-02T16:25:32.973475Z"
    }
   }
  },
  {
   "cell_type": "code",
   "execution_count": 15,
   "outputs": [],
   "source": [
    "columns = [\n",
    " 'ageofparticipant',\n",
    "  'clinician.branch', 'clinician.name', 'clinician.role',\n",
    " 'drug_used',\n",
    " 'experimentenddate',\n",
    " 'experimentstartdate',\n",
    " 'noofhourspassedatfirstreaction',\n",
    " 'result.conclusion', 'result.sideeffectsonparticipant']"
   ],
   "metadata": {
    "collapsed": false,
    "ExecuteTime": {
     "end_time": "2023-09-02T16:26:53.503364Z",
     "start_time": "2023-09-02T16:26:53.494910Z"
    }
   }
  },
  {
   "cell_type": "code",
   "execution_count": 16,
   "outputs": [
    {
     "name": "stdout",
     "output_type": "stream",
     "text": [
      "+----------------+-------+-------+---------+---------+-----------------+-------------------+------------------------------+-------------+------------------------+\n",
      "|ageofparticipant| branch|   name|     role|drug_used|experimentenddate|experimentstartdate|noofhourspassedatfirstreaction|   conclusion|sideeffectsonparticipant|\n",
      "+----------------+-------+-------+---------+---------+-----------------+-------------------+------------------------------+-------------+------------------------+\n",
      "|              19|Ontario|   Saul|therapist|  Placebo|    1619827200000|      1617235200000|                            52|BP normalized|          rashes on neck|\n",
      "|              14|Ontario|   Saul|    nurse| Naproxen|    1619827200000|      1617235200000|                            78|    Follow-up|                     N/A|\n",
      "|              17|Ontario|   Saul|    nurse|  Placebo|    1619827200000|      1617235200000|                            14|    Follow-up|                     N/A|\n",
      "|              18|Ontario|   Will|    nurse| Naproxen|    1619827200000|      1617235200000|                            14|BP normalized|                     N/A|\n",
      "|              17|Ontario|Patrick|   doctor| Naproxen|    1619827200000|      1617235200000|                            22|    No effect|          rashes on neck|\n",
      "+----------------+-------+-------+---------+---------+-----------------+-------------------+------------------------------+-------------+------------------------+\n",
      "only showing top 5 rows\n",
      "\n"
     ]
    }
   ],
   "source": [
    "trials_df.select(columns).show(5)"
   ],
   "metadata": {
    "collapsed": false,
    "ExecuteTime": {
     "end_time": "2023-09-02T16:27:56.171522Z",
     "start_time": "2023-09-02T16:27:55.770744Z"
    }
   }
  },
  {
   "cell_type": "code",
   "execution_count": 18,
   "outputs": [],
   "source": [
    "from pyspark.sql import functions as fn"
   ],
   "metadata": {
    "collapsed": false,
    "ExecuteTime": {
     "end_time": "2023-09-02T16:51:15.351755Z",
     "start_time": "2023-09-02T16:51:15.341986Z"
    }
   }
  },
  {
   "cell_type": "code",
   "execution_count": null,
   "outputs": [],
   "source": [],
   "metadata": {
    "collapsed": false
   }
  },
  {
   "cell_type": "code",
   "execution_count": 19,
   "outputs": [
    {
     "name": "stdout",
     "output_type": "stream",
     "text": [
      "+----------------+----------------+--------------+--------------+---------+-----------------+-------------------+------------------------------+-----------------+-------------------------------+\n",
      "|ageofparticipant|clinician.branch|clinician.name|clinician.role|drug_used|experimentenddate|experimentstartdate|noofhourspassedatfirstreaction|result.conclusion|result.sideeffectsonparticipant|\n",
      "+----------------+----------------+--------------+--------------+---------+-----------------+-------------------+------------------------------+-----------------+-------------------------------+\n",
      "|               0|               0|             0|           109|        0|                0|                  0|                            73|               53|                              0|\n",
      "+----------------+----------------+--------------+--------------+---------+-----------------+-------------------+------------------------------+-----------------+-------------------------------+\n",
      "\n"
     ]
    }
   ],
   "source": [
    "#counting null values per column\n",
    "trials_df.select([fn.count(fn.when(fn.col(column).isNull(), column)).alias(column) for column in columns]).show()"
   ],
   "metadata": {
    "collapsed": false,
    "ExecuteTime": {
     "end_time": "2023-09-02T16:59:16.231527Z",
     "start_time": "2023-09-02T16:59:14.735950Z"
    }
   }
  },
  {
   "cell_type": "markdown",
   "source": [
    "# Cleaning"
   ],
   "metadata": {
    "collapsed": false
   }
  },
  {
   "cell_type": "code",
   "execution_count": 20,
   "outputs": [
    {
     "name": "stdout",
     "output_type": "stream",
     "text": [
      "+----------------+--------------------+---------+-----------------+-------------------+------------------------------+--------------------+\n",
      "|ageofparticipant|           clinician|drug_used|experimentenddate|experimentstartdate|noofhourspassedatfirstreaction|              result|\n",
      "+----------------+--------------------+---------+-----------------+-------------------+------------------------------+--------------------+\n",
      "|              19|{Ontario, Saul, t...|  Placebo|    1619827200000|      1617235200000|                            52|{BP normalized, r...|\n",
      "|              14|{Ontario, Saul, n...| Naproxen|    1619827200000|      1617235200000|                            78|    {Follow-up, N/A}|\n",
      "|              17|{Ontario, Saul, n...|  Placebo|    1619827200000|      1617235200000|                            14|    {Follow-up, N/A}|\n",
      "|              18|{Ontario, Will, n...| Naproxen|    1619827200000|      1617235200000|                            14|{BP normalized, N/A}|\n",
      "|              17|{Ontario, Patrick...| Naproxen|    1619827200000|      1617235200000|                            22|{No effect, rashe...|\n",
      "+----------------+--------------------+---------+-----------------+-------------------+------------------------------+--------------------+\n",
      "only showing top 5 rows\n",
      "\n"
     ]
    }
   ],
   "source": [
    "trials_df.show(5)"
   ],
   "metadata": {
    "collapsed": false,
    "ExecuteTime": {
     "end_time": "2023-09-02T17:13:39.909814Z",
     "start_time": "2023-09-02T17:13:39.563334Z"
    }
   }
  },
  {
   "cell_type": "code",
   "execution_count": null,
   "outputs": [],
   "source": [
    "# flatten the dataframe\n",
    "# address null values\n",
    "# rename the columns\n",
    "#"
   ],
   "metadata": {
    "collapsed": false
   }
  },
  {
   "cell_type": "code",
   "execution_count": 21,
   "outputs": [],
   "source": [
    "new_trials_df = trials_df.select(columns)"
   ],
   "metadata": {
    "collapsed": false,
    "ExecuteTime": {
     "end_time": "2023-09-02T17:20:19.985986Z",
     "start_time": "2023-09-02T17:20:19.931455Z"
    }
   }
  },
  {
   "cell_type": "code",
   "execution_count": 22,
   "outputs": [
    {
     "name": "stdout",
     "output_type": "stream",
     "text": [
      "root\n",
      " |-- ageofparticipant: long (nullable = true)\n",
      " |-- branch: string (nullable = true)\n",
      " |-- name: string (nullable = true)\n",
      " |-- role: string (nullable = true)\n",
      " |-- drug_used: string (nullable = true)\n",
      " |-- experimentenddate: string (nullable = true)\n",
      " |-- experimentstartdate: string (nullable = true)\n",
      " |-- noofhourspassedatfirstreaction: long (nullable = true)\n",
      " |-- conclusion: string (nullable = true)\n",
      " |-- sideeffectsonparticipant: string (nullable = true)\n",
      "\n"
     ]
    }
   ],
   "source": [
    "new_trials_df.printSchema()"
   ],
   "metadata": {
    "collapsed": false,
    "ExecuteTime": {
     "end_time": "2023-09-02T17:20:37.845561Z",
     "start_time": "2023-09-02T17:20:37.837936Z"
    }
   }
  },
  {
   "cell_type": "code",
   "execution_count": 26,
   "outputs": [],
   "source": [
    "# rename the column\n",
    "new_trials_df = new_trials_df.withColumnsRenamed({'sideeffectsonparticipant': 'side effects', 'noofhourspassedatfirstreaction': 'no of hours passed at first reaction', 'experimentstartdate': 'experiment start date', 'ageofparticipant': 'age of participant', 'experimentenddate': 'experiment end date', 'name': 'head clinician', 'role': 'assistant role'})"
   ],
   "metadata": {
    "collapsed": false,
    "ExecuteTime": {
     "end_time": "2023-09-02T17:38:01.996676Z",
     "start_time": "2023-09-02T17:38:01.967158Z"
    }
   }
  },
  {
   "cell_type": "code",
   "execution_count": 27,
   "outputs": [
    {
     "name": "stdout",
     "output_type": "stream",
     "text": [
      "+------------------+-------+--------------+--------------+---------+-------------------+---------------------+------------------------------------+-------------+--------------+\n",
      "|age of participant| branch|head clinician|assistant role|drug_used|experiment end date|experiment start date|no of hours passed at first reaction|   conclusion|  side effects|\n",
      "+------------------+-------+--------------+--------------+---------+-------------------+---------------------+------------------------------------+-------------+--------------+\n",
      "|                19|Ontario|          Saul|     therapist|  Placebo|      1619827200000|        1617235200000|                                  52|BP normalized|rashes on neck|\n",
      "|                14|Ontario|          Saul|         nurse| Naproxen|      1619827200000|        1617235200000|                                  78|    Follow-up|           N/A|\n",
      "|                17|Ontario|          Saul|         nurse|  Placebo|      1619827200000|        1617235200000|                                  14|    Follow-up|           N/A|\n",
      "|                18|Ontario|          Will|         nurse| Naproxen|      1619827200000|        1617235200000|                                  14|BP normalized|           N/A|\n",
      "|                17|Ontario|       Patrick|        doctor| Naproxen|      1619827200000|        1617235200000|                                  22|    No effect|rashes on neck|\n",
      "|                17|Ontario|       Patrick|        doctor| Naproxen|      1619827200000|        1617235200000|                                   4|    Follow-up|     headaches|\n",
      "|                20|Ontario|          Saul|        doctor| Naproxen|      1619827200000|        1617235200000|                                  85|    No effect|     headaches|\n",
      "|                15|Ontario|          Saul|        doctor|  Placebo|      1619827200000|        1617235200000|                                  49|    No effect|rashes on neck|\n",
      "|                14|Ontario|          Will|     therapist|  Placebo|      1619827200000|        1617235200000|                                  84|    Follow-up|     headaches|\n",
      "|                20|Ontario|        Colins|         nurse|  Placebo|      1619827200000|        1617235200000|                                  66|    Follow-up| arms and feet|\n",
      "|                18|Ontario|       Patrick|        doctor|  Placebo|      1619827200000|        1617235200000|                                  40|BP normalized|   light fever|\n",
      "|                17|Ontario|       Patrick|        doctor|  Placebo|      1619827200000|        1617235200000|                                  72|BP normalized| arms and feet|\n",
      "|                19|Ontario|        Colins|     therapist|  Placebo|      1619827200000|        1617235200000|                                  36|    No effect|           N/A|\n",
      "|                15|Ontario|        Colins|     therapist| Naproxen|      1619827200000|        1617235200000|                                  12|BP normalized|     headaches|\n",
      "|                19|Ontario|          Saul|     therapist|  Placebo|      1619827200000|        1617235200000|                                  14|    No effect|           N/A|\n",
      "|                16|Ontario|        Colins|         nurse|  Placebo|      1619827200000|        1617235200000|                                  63|BP normalized|           N/A|\n",
      "|                16|Ontario|          Saul|         nurse| Naproxen|      1619827200000|        1617235200000|                                  70|BP normalized|     headaches|\n",
      "|                18|Ontario|          Will|     therapist| Naproxen|      1619827200000|        1617235200000|                                  10|BP normalized|           N/A|\n",
      "|                16|Ontario|       Patrick|         nurse| Naproxen|      1619827200000|        1617235200000|                                  11|    Follow-up|rashes on neck|\n",
      "|                14|Ontario|       Patrick|        doctor| Naproxen|      1619827200000|        1617235200000|                                  32|    No effect|   light fever|\n",
      "+------------------+-------+--------------+--------------+---------+-------------------+---------------------+------------------------------------+-------------+--------------+\n",
      "only showing top 20 rows\n",
      "\n"
     ]
    }
   ],
   "source": [
    "new_trials_df.show()"
   ],
   "metadata": {
    "collapsed": false,
    "ExecuteTime": {
     "end_time": "2023-09-02T17:38:03.969703Z",
     "start_time": "2023-09-02T17:38:03.775156Z"
    }
   }
  },
  {
   "cell_type": "code",
   "execution_count": 29,
   "outputs": [
    {
     "name": "stderr",
     "output_type": "stream",
     "text": [
      "23/09/02 11:52:20 WARN package: Truncated the string representation of a plan since it was too large. This behavior can be adjusted by setting 'spark.sql.debug.maxToStringFields'.\n",
      "[Stage 13:>                                                         (0 + 1) / 1]\r"
     ]
    },
    {
     "name": "stdout",
     "output_type": "stream",
     "text": [
      "+-------+------------------+-------+--------------+--------------+---------+--------------------+---------------------+------------------------------------+-------------+--------------+\n",
      "|summary|age of participant| branch|head clinician|assistant role|drug_used| experiment end date|experiment start date|no of hours passed at first reaction|   conclusion|  side effects|\n",
      "+-------+------------------+-------+--------------+--------------+---------+--------------------+---------------------+------------------------------------+-------------+--------------+\n",
      "|  count|              3586|   3586|          3586|          3477|     3586|                3586|                 3586|                                3513|         3533|          3586|\n",
      "|   mean|17.507250418293363|   null|          null|          null|     null|1.618381578137200...| 1.615813671834913...|                   44.89097637346997|         null|          null|\n",
      "| stddev|2.3066401927555233|   null|          null|          null|     null|2.3250351904618263E9| 2.2862846039555306E9|                  24.540325490035848|         null|          null|\n",
      "|    min|                14|Alberta|        Colins|        doctor| Naproxen|       1614643200000|        1612137600000|                                   3|BP normalized|           N/A|\n",
      "|    max|                21| Quebec|       Windsor|     therapist|  Placebo|       1619827200000|        1617235200000|                                  87|    No effect|rashes on neck|\n",
      "+-------+------------------+-------+--------------+--------------+---------+--------------------+---------------------+------------------------------------+-------------+--------------+\n",
      "\n"
     ]
    },
    {
     "name": "stderr",
     "output_type": "stream",
     "text": [
      "                                                                                \r"
     ]
    }
   ],
   "source": [
    "new_trials_df.describe().show()"
   ],
   "metadata": {
    "collapsed": false,
    "ExecuteTime": {
     "end_time": "2023-09-02T17:52:21.770971Z",
     "start_time": "2023-09-02T17:52:19.963781Z"
    }
   }
  },
  {
   "cell_type": "code",
   "execution_count": 34,
   "outputs": [],
   "source": [
    "new_trials_df = new_trials_df.na.fill({'conclusion': 'unknown', 'assistant role': 'unknown'})"
   ],
   "metadata": {
    "collapsed": false,
    "ExecuteTime": {
     "end_time": "2023-09-02T18:00:30.535008Z",
     "start_time": "2023-09-02T18:00:30.509944Z"
    }
   }
  },
  {
   "cell_type": "code",
   "execution_count": 35,
   "outputs": [
    {
     "name": "stdout",
     "output_type": "stream",
     "text": [
      "+-------+------------------+-------+--------------+--------------+---------+--------------------+---------------------+------------------------------------+-------------+--------------+\n",
      "|summary|age of participant| branch|head clinician|assistant role|drug_used| experiment end date|experiment start date|no of hours passed at first reaction|   conclusion|  side effects|\n",
      "+-------+------------------+-------+--------------+--------------+---------+--------------------+---------------------+------------------------------------+-------------+--------------+\n",
      "|  count|              3586|   3586|          3586|          3586|     3586|                3586|                 3586|                                3513|         3586|          3586|\n",
      "|   mean|17.507250418293363|   null|          null|          null|     null|1.618381578137200...| 1.615813671834913...|                   44.89097637346997|         null|          null|\n",
      "| stddev|2.3066401927555233|   null|          null|          null|     null|2.3250351904618263E9| 2.2862846039555306E9|                  24.540325490035848|         null|          null|\n",
      "|    min|                14|Alberta|        Colins|        doctor| Naproxen|       1614643200000|        1612137600000|                                   3|BP normalized|           N/A|\n",
      "|    max|                21| Quebec|       Windsor|       unknown|  Placebo|       1619827200000|        1617235200000|                                  87|      unknown|rashes on neck|\n",
      "+-------+------------------+-------+--------------+--------------+---------+--------------------+---------------------+------------------------------------+-------------+--------------+\n",
      "\n"
     ]
    }
   ],
   "source": [
    "new_trials_df.describe().show()"
   ],
   "metadata": {
    "collapsed": false,
    "ExecuteTime": {
     "end_time": "2023-09-02T18:00:36.081698Z",
     "start_time": "2023-09-02T18:00:35.283244Z"
    }
   }
  },
  {
   "cell_type": "code",
   "execution_count": null,
   "outputs": [],
   "source": [],
   "metadata": {
    "collapsed": false
   }
  }
 ],
 "metadata": {
  "kernelspec": {
   "display_name": "Python 3",
   "language": "python",
   "name": "python3"
  },
  "language_info": {
   "codemirror_mode": {
    "name": "ipython",
    "version": 2
   },
   "file_extension": ".py",
   "mimetype": "text/x-python",
   "name": "python",
   "nbconvert_exporter": "python",
   "pygments_lexer": "ipython2",
   "version": "2.7.6"
  }
 },
 "nbformat": 4,
 "nbformat_minor": 0
}
